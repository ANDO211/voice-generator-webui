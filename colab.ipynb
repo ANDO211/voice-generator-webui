{
 "cells": [
  {
   "attachments": {},
   "cell_type": "markdown",
   "metadata": {},
   "source": [
    "## 1 セットアップ"
   ]
  },
  {
   "cell_type": "code",
   "execution_count": null,
   "metadata": {},
   "outputs": [],
   "source": [
    "# GPUの確認\n",
    "!nvidia-smi"
   ]
  },
  {
   "cell_type": "code",
   "execution_count": null,
   "metadata": {},
   "outputs": [],
   "source": [
    "!pip uninstall -y cmake\n",
    "!wget https://github.com/Kitware/CMake/releases/download/v3.22.1/cmake-3.22.1-linux-x86_64.tar.gz\n",
    "!tar xf cmake-3.22.1-linux-x86_64.tar.gz\n",
    "!rm cmake-3.22.1-linux-x86_64.tar.gz\n",
    "!PATH=$PATH:/content/cmake-3.22.1-linux-x86_64/bin\n",
    "\n",
    "import os\n",
    "os.environ[\"PATH\"] += \":/content/cmake-3.22.1-linux-x86_64/bin\"\n",
    "\n",
    "!cmake --version\n",
    "\n",
    "\n",
    "!git clone https://github.com/log1stics/voice-generator-webui\n",
    "%cd voice-generator-webui\n",
    "!pip install -r requirements.txt\n",
    "\n",
    "%cd tts/monotonic_align\n",
    "!python setup.py build_ext --inplace"
   ]
  },
  {
   "attachments": {},
   "cell_type": "markdown",
   "metadata": {},
   "source": [
    "## 2 起動"
   ]
  },
  {
   "cell_type": "code",
   "execution_count": null,
   "metadata": {},
   "outputs": [],
   "source": [
    "%cd /content/voice-generator-webui\n",
    "!python3 webui.py --colab"
   ]
  }
 ],
 "metadata": {
  "language_info": {
   "name": "python"
  },
  "orig_nbformat": 4
 },
 "nbformat": 4,
 "nbformat_minor": 2
}
