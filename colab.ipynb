{
  "nbformat": 4,
  "nbformat_minor": 0,
  "metadata": {
    "colab": {
      "private_outputs": true,
      "provenance": [],
      "authorship_tag": "ABX9TyMMTHDt5OmAGTGJHm27201h",
      "include_colab_link": true
    },
    "kernelspec": {
      "name": "python3",
      "display_name": "Python 3"
    },
    "language_info": {
      "name": "python"
    },
    "accelerator": "GPU",
    "gpuClass": "standard"
  },
  "cells": [
    {
      "cell_type": "markdown",
      "metadata": {
        "id": "view-in-github",
        "colab_type": "text"
      },
      "source": [
        "<a href=\"https://colab.research.google.com/github/log1stics/voice-generator-webui/blob/main/colab.ipynb\" target=\"_parent\"><img src=\"https://colab.research.google.com/assets/colab-badge.svg\" alt=\"Open In Colab\"/></a>"
      ]
    },
    {
      "cell_type": "markdown",
      "source": [
        "## 1 Setup (need GPU)"
      ],
      "metadata": {
        "id": "vfSbGwlctgc5"
      }
    },
    {
      "cell_type": "code",
      "execution_count": null,
      "metadata": {
        "id": "5BwQ433trv3_"
      },
      "outputs": [],
      "source": [
        "!nvidia-smi\n",
        "\n",
        "# need reinstall cmake for pyopenjtalk\n",
        "!pip uninstall -y cmake\n",
        "!wget https://github.com/Kitware/CMake/releases/download/v3.22.1/cmake-3.22.1-linux-x86_64.tar.gz\n",
        "!tar xf cmake-3.22.1-linux-x86_64.tar.gz\n",
        "!rm cmake-3.22.1-linux-x86_64.tar.gz\n",
        "!PATH=$PATH:/content/cmake-3.22.1-linux-x86_64/bin\n",
        "import os\n",
        "os.environ[\"PATH\"] += \":/content/cmake-3.22.1-linux-x86_64/bin\"\n",
        "\n",
        "!apt-get install espeak\n",
        "\n",
        "!git clone https://github.com/log1stics/voice-generator-webui\n",
        "%cd voice-generator-webui\n",
        "!chmod +x setup.sh\n",
        "!./setup.sh"
      ]
    },
    {
      "cell_type": "markdown",
      "source": [
        "## 2 Start (access PUBLIC URL)"
      ],
      "metadata": {
        "id": "Rgd7eaaStji_"
      }
    },
    {
      "cell_type": "code",
      "source": [
        "!python3 webui.py --colab"
      ],
      "metadata": {
        "id": "mhJxbzJCr2lF"
      },
      "execution_count": null,
      "outputs": []
    }
  ]
}